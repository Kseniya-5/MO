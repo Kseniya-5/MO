{
  "nbformat": 4,
  "nbformat_minor": 0,
  "metadata": {
    "colab": {
      "provenance": [],
      "collapsed_sections": [],
      "mount_file_id": "1OQvPPXgQ1E0CNP1wvDJs4V6CVJr2TRuD",
      "authorship_tag": "ABX9TyMLfNlbp2vAFS+dQJaeKN71"
    },
    "kernelspec": {
      "name": "python3",
      "display_name": "Python 3"
    },
    "language_info": {
      "name": "python"
    }
  },
  "cells": [
    {
      "cell_type": "markdown",
      "source": [
        "**Домашняя работа**\n",
        "1.   Определить \"нетто-доходность\" i-ой (i = 1, 2, 3) акции в день\n",
        "2.   Вычислить выборочные средние и дисперсии доходности для каждой акции, выборочные ковариации\n",
        "3.   Составить задачу минимизации дисперсии портфеля при заданной средней доходности портфеля\n",
        "4.   Решить задачу аналитически, применяя правило Лагранжа, обосновать существование решения в задаче\n",
        "5.   Найти решение численно, реализовав метод множителей Лагранжа на Питоне\n",
        "\n",
        "\n"
      ],
      "metadata": {
        "id": "6KZyYfGQTlOi"
      }
    },
    {
      "cell_type": "code",
      "source": [
        "import pandas as pd \n",
        "import numpy as np \n",
        "import sympy as sm"
      ],
      "metadata": {
        "id": "nObngl8vVGtM"
      },
      "execution_count": 2,
      "outputs": []
    },
    {
      "cell_type": "code",
      "source": [
        "#Считываем данные 3-х компаний из файлов\n",
        "first_action_AVAN = pd.read_excel('drive/MyDrive/мо/AVAN.xlsx')\n",
        "second_action_MVID = pd.read_excel('drive/MyDrive/мо/MVID.xlsx')\n",
        "third_action_VJGZ = pd.read_excel('drive/MyDrive/мо/VJGZ.xlsx')"
      ],
      "metadata": {
        "id": "j8CpWC5Da_8E"
      },
      "execution_count": 37,
      "outputs": []
    },
    {
      "cell_type": "code",
      "source": [
        "#Список цен 3-х акций\n",
        "r_avan = list(map(float, first_action_AVAN['Цена'].tolist()))\n",
        "r_mvid = list(map(float, second_action_MVID['Цена'].tolist()))\n",
        "r_vjgz =  list(map(float, third_action_VJGZ['Цена'].tolist()))"
      ],
      "metadata": {
        "id": "-vjTVzzoCOrZ"
      },
      "execution_count": 4,
      "outputs": []
    },
    {
      "cell_type": "code",
      "source": [
        "#Список из доходностей для 3-х компаний\n",
        "r_avan_1 = [(r_avan[i + 1] / r_avan[i]) - 1 for i in range(200)]\n",
        "r_mvid_2 = [(r_mvid[i + 1] / r_mvid[i]) - 1 for i in range(200)]\n",
        "r_vjgz_3 = [(r_vjgz[i + 1] / r_vjgz[i]) - 1 for i in range(200)]"
      ],
      "metadata": {
        "id": "c8M4vT_Yh1-F"
      },
      "execution_count": 5,
      "outputs": []
    },
    {
      "cell_type": "code",
      "source": [
        "#Определим \"нетто-доходность\" i-ой акции в день t\n",
        "t = int(input(\"Введите номер дня (от 1 до 200) за который хотите получить доходность: \"))\n",
        "i = int(input(\"Введите номер компании, где AVAN - 1, MVID - 2, VJGZ - 3: \"))\n",
        "while t < 1 or t > 200:\n",
        "    t = int(input(f'Введите номер дня (от 1 до 200) еще раз: '))\n",
        "else:\n",
        "    if i == 1:\n",
        "        print(f'Доходность акций компании AVAN за {t} день равна {r_avan_1[i - 1]}')\n",
        "    elif i == 2:\n",
        "        print(f'Доходность акций компании MVID за {t} день равна {r_mvid_2[i - 1]}')\n",
        "    elif i == 3:\n",
        "        print(f'Доходность акций компании VJGZ за {t} день равна {r_vjgz_3[i - 1]}')\n",
        "    else:\n",
        "        print('Введите правильные данные')"
      ],
      "metadata": {
        "colab": {
          "base_uri": "https://localhost:8080/"
        },
        "id": "zGVdMEZeOIKC",
        "outputId": "0f5ad30c-e4c9-478a-991c-b5fd7bf04c45"
      },
      "execution_count": 6,
      "outputs": [
        {
          "output_type": "stream",
          "name": "stdout",
          "text": [
            "Введите номер дня (от 1 до 200) за который хотите получить доходность: 3\n",
            "Введите номер компании, где AVAN - 1, MVID - 2, VJGZ - 3: 3\n",
            "Доходность акций компании VJGZ за 3 день равна 0.010544815465729274\n"
          ]
        }
      ]
    },
    {
      "cell_type": "markdown",
      "source": [
        "1**Воспользуюсь следующими формулами**\n",
        "\n",
        "> Выборочной средней называется среднее арифметическое всех значений выборки: $M = 1/n \\sum_{i = 0}^n r_i$\n",
        "\n",
        "\n",
        "> Выборочная дисперсия - это среднее арифметическое квадратов отклонения всех вариантов выборки от ее средней: $D = 1/n \\sum_{i = 0} ^ n (r_i - M)^2$\n",
        "\n",
        "\n"
      ],
      "metadata": {
        "id": "31FrFjvz3kaq"
      }
    },
    {
      "cell_type": "code",
      "source": [
        "#Выборочные средние для каждой акции\n",
        "M_avan_1 = sum(r_avan_1) / len(r_avan_1)\n",
        "M_mvid_2 = sum(r_mvid_2) / len(r_mvid_2)\n",
        "M_vjgz_3 = sum(r_vjgz_3) / len(r_vjgz_3)\n",
        "\n",
        "print(f'Для акций AVAN выборочное среднее = {M_avan_1}\\n'\n",
        "f'Для акций MVID выборочное среднее = {M_mvid_2}\\n'\n",
        "f'Для акций VJGZ выборочное среднее = {M_vjgz_3}')"
      ],
      "metadata": {
        "colab": {
          "base_uri": "https://localhost:8080/"
        },
        "id": "y3neGlgrh54P",
        "outputId": "b464254d-242f-4028-e8a1-c1f5a7f84795"
      },
      "execution_count": 7,
      "outputs": [
        {
          "output_type": "stream",
          "name": "stdout",
          "text": [
            "Для акций AVAN выборочное среднее = 0.0011247630175105704\n",
            "Для акций MVID выборочное среднее = 0.006043591894223941\n",
            "Для акций VJGZ выборочное среднее = 0.0031135893613838954\n"
          ]
        }
      ]
    },
    {
      "cell_type": "markdown",
      "source": [
        "Выберу такое M*, чтобы выполнялось следующее условие: $min M_i < M* < max M_i$"
      ],
      "metadata": {
        "id": "NLUBaie-UV1e"
      }
    },
    {
      "cell_type": "code",
      "source": [
        "#Выбор M*\n",
        "all_M = [M_avan_1, M_mvid_2, M_vjgz_3]\n",
        "M_range = float(input(f'Введите значение M* из диапазона'\n",
        "f'({min(all_M),  max(all_M)}): '))\n",
        "while M_range <= min(all_M) or M_range >= max(all_M):\n",
        "    M_range = float(input(f'Введите значение из диапазона'\n",
        "    f'({min(all_M),  max(all_M)}) еще раз: '))\n",
        "else:\n",
        "    print(f'Вы ввели M* = {M_range}')"
      ],
      "metadata": {
        "colab": {
          "base_uri": "https://localhost:8080/"
        },
        "id": "eguCJTQhUtj-",
        "outputId": "aea39d21-1862-4650-a6cc-84c8101fbe69"
      },
      "execution_count": 8,
      "outputs": [
        {
          "output_type": "stream",
          "name": "stdout",
          "text": [
            "Введите значение M* из диапазона((0.0011247630175105704, 0.006043591894223941)): 0.004\n",
            "Вы ввели M* = 0.004\n"
          ]
        }
      ]
    },
    {
      "cell_type": "code",
      "source": [
        "#Выборачная дисперсия для каждой акции\n",
        "D_avan_1 = sum([(r_avan_1[i] - M_avan_1)**2 for i in range(len(r_avan_1))]) / len(r_avan_1)\n",
        "D_mvid_2 = sum([(r_mvid_2[i] - M_mvid_2)**2 for i in range(len(r_mvid_2))]) / len(r_mvid_2)\n",
        "D_vjgz_3 = sum([(r_vjgz_3[i] - M_vjgz_3)**2 for i in range(len(r_vjgz_3))]) / len(r_vjgz_3)\n",
        "\n",
        "print(f'Для акций AVAN выборочная дисперсия в квадрате = {D_avan_1}\\n'\n",
        "f'Для акций MVID выборочная дисперсия в квадрате = {D_mvid_2}\\n'\n",
        "f'Для акций VJGZ выборочная дисперсия в квадрате = {D_vjgz_3}')"
      ],
      "metadata": {
        "colab": {
          "base_uri": "https://localhost:8080/"
        },
        "id": "af23YXhswBOB",
        "outputId": "8336f127-19c3-4399-aa95-cc48c5742722"
      },
      "execution_count": 9,
      "outputs": [
        {
          "output_type": "stream",
          "name": "stdout",
          "text": [
            "Для акций AVAN выборочная дисперсия в квадрате = 0.0014168584314022694\n",
            "Для акций MVID выборочная дисперсия в квадрате = 0.0022635154092858446\n",
            "Для акций VJGZ выборочная дисперсия в квадрате = 0.0025429379551753684\n"
          ]
        }
      ]
    },
    {
      "cell_type": "code",
      "source": [
        "#Матрица выборочных ковариаций\n",
        "data = np.array([r_avan_1, r_mvid_2, r_vjgz_3])\n",
        "C = np.cov(data, bias = True)\n",
        "\n",
        "print(C)"
      ],
      "metadata": {
        "id": "iSMCIiPF6hw6",
        "colab": {
          "base_uri": "https://localhost:8080/"
        },
        "outputId": "87dceef8-57c5-44f6-8695-55837ea8f409"
      },
      "execution_count": 10,
      "outputs": [
        {
          "output_type": "stream",
          "name": "stdout",
          "text": [
            "[[ 1.41685843e-03  8.63479402e-05 -2.49744668e-04]\n",
            " [ 8.63479402e-05  2.26351541e-03  1.59762813e-03]\n",
            " [-2.49744668e-04  1.59762813e-03  2.54293796e-03]]\n"
          ]
        }
      ]
    },
    {
      "cell_type": "markdown",
      "source": [
        "**Интерпретация ковариационной матрицы**\n",
        "\n",
        "> Значения по главной диагонали матрицы - это дисперсия каждой акции. Например:\n",
        "\n",
        "1.   Для акций AVAN = 1.41685843e-03\n",
        "2.   Для акций MVID = 2.26351541\n",
        "3.   Для акций VJGZ = 2.54293796e-03\n",
        "\n",
        "\n",
        "> Другие значения в матрице представляют собой ковариации между различными акциями. Например:\n",
        "\n",
        "\n",
        "1.   Ковариация между акциями AVAN и MVID составляет 8.63479402e-05\n",
        "2.   Ковариация между акциями AVAN и VJGZ составляет -2.49744668e-04\n",
        "3.   Ковариация между акциями MVID и VJGZ составляет 1.59762813e-03\n",
        "\n",
        "\n",
        "\n",
        "> *Положительное число* для ковариации указывает, что две акции имеют тенденцию увеличиваться или уменьшаться в тандеме.\n",
        "\n",
        "> *Отрицательное число* ковариации указывет на то, что по мере увеличения одной акции вторая акция имеет тенденцию к уменьшению.\n",
        "\n",
        "\n",
        "\n",
        "\n",
        "\n",
        "\n",
        "\n",
        "\n",
        "\n",
        "\n",
        "\n",
        "\n",
        "\n",
        "\n"
      ],
      "metadata": {
        "id": "suZ1deETUjCt"
      }
    },
    {
      "cell_type": "code",
      "source": [
        "# Запишу целевую функцию (Cx, x)\n",
        "x1, x2, x3 = sm.symbols('x1 x2 x3')\n",
        "X = np.array([x1, x2, x3])\n",
        "Cx = C.dot(X)\n",
        "Cx_x = np.dot(Cx, X)\n",
        "\n",
        "print(f'(Cx, x) = {Cx_x} -> min')"
      ],
      "metadata": {
        "id": "OPSZtbtzUhWG",
        "colab": {
          "base_uri": "https://localhost:8080/"
        },
        "outputId": "40c37489-76f2-4d05-9f4d-bce15a03ab32"
      },
      "execution_count": 11,
      "outputs": [
        {
          "output_type": "stream",
          "name": "stdout",
          "text": [
            "(Cx, x) = x1*(0.00141685843140227*x1 + 8.63479402469543e-5*x2 - 0.000249744668073191*x3) + x2*(8.63479402469543e-5*x1 + 0.00226351540928585*x2 + 0.00159762813078828*x3) + x3*(-0.000249744668073191*x1 + 0.00159762813078828*x2 + 0.00254293795517537*x3) -> min\n"
          ]
        }
      ]
    },
    {
      "cell_type": "markdown",
      "source": [
        "**Запишу ограничения в нашей задачи для трех акций**\n",
        "\n",
        "> $\\sum_{i = 1}^3 x_i - 1 ==> x_1 + x_2 + x_3 - 1$\n",
        "\n",
        "> $\\sum_{i = 1}^3 M_ix_i - M* ==> M_1x_1 + M_2x_2 + M_3x_3 - M*$\n",
        "\n",
        "\n",
        "> $\\sum_{j = 1}^3 w_2+_j  x_j ==> w_3x_1 + w_4x_2 + w_5x_3$\n",
        "\n",
        "\n",
        "\n",
        "\n",
        "\n"
      ],
      "metadata": {
        "id": "oMbZ6yNcY3t2"
      }
    },
    {
      "cell_type": "code",
      "source": [
        "#Запишем ограничения задачи\n",
        "w1, w2, w3, w4, w5 = sm.symbols('w1 w2 w3 w4 w5') #Наши лямбды\n",
        "z1 = x1 + x2 + x3 - 1\n",
        "z2 = M_avan_1 * x1 + M_mvid_2 * x2 + M_vjgz_3 * x3 - M_range\n",
        "z3 = w3 * x1 + w4 * x2 + w5 * x3\n",
        "\n",
        "print(f'Ограничения:\\n'\n",
        "f'{z1} = 0\\n'\n",
        "f'{z2} = 0\\n'\n",
        "f'{z3} = 0')"
      ],
      "metadata": {
        "colab": {
          "base_uri": "https://localhost:8080/"
        },
        "id": "r1fx1aciKWkh",
        "outputId": "e9672447-cad3-4753-ceb7-ada0fd7690cc"
      },
      "execution_count": 29,
      "outputs": [
        {
          "output_type": "stream",
          "name": "stdout",
          "text": [
            "Ограничения:\n",
            "x1 + x2 + x3 - 1 = 0\n",
            "0.00112476301751057*x1 + 0.00604359189422394*x2 + 0.0031135893613839*x3 - 0.004 = 0\n",
            "w3*x1 + w4*x2 + w5*x3 = 0\n"
          ]
        }
      ]
    },
    {
      "cell_type": "code",
      "source": [
        "#Запишу функцию Лагранжа\n",
        "L = Cx_x + w1 * z1 + w2 * z2 - z3\n",
        "\n",
        "print(f'Функция Лагранжа выглядит следующим образом:\\n{L}')"
      ],
      "metadata": {
        "colab": {
          "base_uri": "https://localhost:8080/"
        },
        "id": "kDqSeWnAcHXU",
        "outputId": "fc6b905e-3847-4467-974f-4e84109a1eee"
      },
      "execution_count": 30,
      "outputs": [
        {
          "output_type": "stream",
          "name": "stdout",
          "text": [
            "Функция Лагранжа выглядит следующим образом:\n",
            "w1*(x1 + x2 + x3 - 1) + w2*(0.00112476301751057*x1 + 0.00604359189422394*x2 + 0.0031135893613839*x3 - 0.004) - w3*x1 - w4*x2 - w5*x3 + x1*(0.00141685843140227*x1 + 8.63479402469543e-5*x2 - 0.000249744668073191*x3) + x2*(8.63479402469543e-5*x1 + 0.00226351540928585*x2 + 0.00159762813078828*x3) + x3*(-0.000249744668073191*x1 + 0.00159762813078828*x2 + 0.00254293795517537*x3)\n"
          ]
        }
      ]
    },
    {
      "cell_type": "code",
      "source": [
        "#Запишу условия стационарности\n",
        "L_x1 = L.diff(x1)\n",
        "L_x2 = L.diff(x2)\n",
        "L_x3 = L.diff(x3)\n",
        "\n",
        "print(f'Получившаяся система уравнений\\n'\n",
        "f'dL/dx1 = {L_x1} = 0\\n'\n",
        "f'dL/dx2 = {L_x2} = 0\\n'\n",
        "f'dL/dx3 = {L_x3} = 0\\n'\n",
        "f'{z1} = 0\\n'\n",
        "f'{z2} = 0\\n'\n",
        "f'{z3} = 0\\n')"
      ],
      "metadata": {
        "colab": {
          "base_uri": "https://localhost:8080/"
        },
        "id": "NkCbeH_Nflqc",
        "outputId": "2b41fac7-d4c3-47eb-9ed7-37c908cd8c24"
      },
      "execution_count": 33,
      "outputs": [
        {
          "output_type": "stream",
          "name": "stdout",
          "text": [
            "Получившаяся система уравнений\n",
            "dL/dx1 = w1 + 0.00112476301751057*w2 - w3 + 0.00283371686280454*x1 + 0.000172695880493909*x2 - 0.000499489336146381*x3 = 0\n",
            "dL/dx2 = w1 + 0.00604359189422394*w2 - w4 + 0.000172695880493909*x1 + 0.00452703081857169*x2 + 0.00319525626157656*x3 = 0\n",
            "dL/dx3 = w1 + 0.0031135893613839*w2 - w5 - 0.000499489336146381*x1 + 0.00319525626157656*x2 + 0.00508587591035074*x3 = 0\n",
            "x1 + x2 + x3 - 1 = 0\n",
            "0.00112476301751057*x1 + 0.00604359189422394*x2 + 0.0031135893613839*x3 - 0.004 = 0\n",
            "w3*x1 + w4*x2 + w5*x3 = 0\n",
            "\n"
          ]
        }
      ]
    },
    {
      "cell_type": "markdown",
      "source": [
        "Для решения системы уравнений нужно рассмотреть 8 случаев:\n",
        "\n",
        "\n",
        "1.   w3 = 0, w4 = 0, w5 = 0\n",
        "2.   w2 = 0, w3 = 0, w4 = 0\n",
        "3.   w1 = 0, w2 = 0, w3 = 0\n",
        "4.   w2 = 0, w4 = 0, w5 = 0\n",
        "5.   w2 = 0, w3 = 0, w5 = 0\n",
        "6.   Новый пункт\n",
        "7.   Новый пункт\n",
        "8.   Новый пункт\n",
        "\n",
        "\n"
      ],
      "metadata": {
        "id": "BMZhaSEIRLfv"
      }
    },
    {
      "cell_type": "markdown",
      "source": [
        "**Воспользуюсь следующей формулой**\n",
        "\n",
        "> $A_{m,n} * X_{m,1} = B_{m,1}$\n",
        "\n"
      ],
      "metadata": {
        "id": "fR6i9qbhpwaN"
      }
    },
    {
      "cell_type": "code",
      "source": [
        "#Запишу вектор для решения системы линейных уравнений\n",
        "Ur_Vector = np.array([0.0, 0.0, 0.0, float(1), M_range])\n",
        "\n",
        "#Случай 1: w3 = 0, w4 = 0, w5 = 0\n",
        "Ur_Matrix_1 = np.array([[float(L_x1.diff(x1)), float(L_x1.diff(x2)), float(L_x1.diff(x3)), float(L_x1.diff(w1)), float(L_x1.diff(w2))],\n",
        "                     [float(L_x2.diff(x1)), float(L_x2.diff(x2)), float(L_x2.diff(x3)), float(L_x2.diff(w1)), float(L_x2.diff(w2))],\n",
        "                     [float(L_x3.diff(x1)), float(L_x3.diff(x2)), float(L_x3.diff(x3)), float(L_x3.diff(w1)), float(L_x3.diff(w2))],\n",
        "                     [1.0, 1.0, 1.0, 0.0, 0.0], \n",
        "                     [float(z2.diff(x1)), float(z2.diff(x2)), float(z2.diff(x3)), float(z2.diff(w1)), float(z2.diff(w2))]])\n",
        "#Случай 2: w2 = 0, w3 = 0, w4 = 0\n",
        "Ur_Matrix_2 = np.array([[float(L_x1.diff(x1)), float(L_x1.diff(x2)), float(L_x1.diff(x3)), float(L_x1.diff(w1)), float(L_x1.diff(w5))],\n",
        "                     [float(L_x2.diff(x1)), float(L_x2.diff(x2)), float(L_x2.diff(x3)), float(L_x2.diff(w1)), float(L_x2.diff(w5))],\n",
        "                     [float(L_x3.diff(x1)), float(L_x3.diff(x2)), float(L_x3.diff(x3)), float(L_x3.diff(w1)), float(L_x3.diff(w5))],\n",
        "                     [1.0, 1.0, 1.0, 0.0, 0.0], \n",
        "                     [float(z2.diff(x1)), float(z2.diff(x2)), float(z2.diff(x3)), float(z2.diff(w1)), float(z2.diff(w5))]])\n",
        "#Случай 3: w1 = 0, w2 = 0, w3 = 0\n",
        "Ur_Matrix_3 = np.array([[float(L_x1.diff(x1)), float(L_x1.diff(x2)), float(L_x1.diff(x3)), float(L_x1.diff(w4)), float(L_x1.diff(w5))],\n",
        "                     [float(L_x2.diff(x1)), float(L_x2.diff(x2)), float(L_x2.diff(x3)), float(L_x2.diff(w4)), float(L_x2.diff(w5))],\n",
        "                     [float(L_x3.diff(x1)), float(L_x3.diff(x2)), float(L_x3.diff(x3)), float(L_x3.diff(w4)), float(L_x3.diff(w5))],\n",
        "                     [1.0, 1.0, 1.0, 0.0, 0.0], \n",
        "                     [float(z2.diff(x1)), float(z2.diff(x2)), float(z2.diff(x3)), float(z2.diff(w4)), float(z2.diff(w5))]])\n",
        "#Случай 4: w2 = 0, w4 = 0, w5 = 0\n",
        "Ur_Matrix_4 = np.array([[float(L_x1.diff(x1)), float(L_x1.diff(x2)), float(L_x1.diff(x3)), float(L_x1.diff(w1)), float(L_x1.diff(w3))],\n",
        "                     [float(L_x2.diff(x1)), float(L_x2.diff(x2)), float(L_x2.diff(x3)), float(L_x2.diff(w1)), float(L_x2.diff(w3))],\n",
        "                     [float(L_x3.diff(x1)), float(L_x3.diff(x2)), float(L_x3.diff(x3)), float(L_x3.diff(w1)), float(L_x3.diff(w3))],\n",
        "                     [1.0, 1.0, 1.0, 0.0, 0.0], \n",
        "                     [float(z2.diff(x1)), float(z2.diff(x2)), float(z2.diff(x3)), float(z2.diff(w1)), float(z2.diff(w3))]])\n",
        "#Случай 5: w2 = 0, w3 = 0, w5 = 0\n",
        "Ur_Matrix_5 = np.array([[float(L_x1.diff(x1)), float(L_x1.diff(x2)), float(L_x1.diff(x3)), float(L_x1.diff(w1)), float(L_x1.diff(w4))],\n",
        "                     [float(L_x2.diff(x1)), float(L_x2.diff(x2)), float(L_x2.diff(x3)), float(L_x2.diff(w1)), float(L_x2.diff(w4))],\n",
        "                     [float(L_x3.diff(x1)), float(L_x3.diff(x2)), float(L_x3.diff(x3)), float(L_x3.diff(w1)), float(L_x3.diff(w4))],\n",
        "                     [1.0, 1.0, 1.0, 0.0, 0.0], \n",
        "                     [float(z2.diff(x1)), float(z2.diff(x2)), float(z2.diff(x3)), float(z2.diff(w1)), float(z2.diff(w4))]])\n",
        "#Случай 6: w1 = 0, w4 = 0, w5 = 0\n",
        "Ur_Matrix_6 = np.array([[float(L_x1.diff(x1)), float(L_x1.diff(x2)), float(L_x1.diff(x3)), float(L_x1.diff(w2)), float(L_x1.diff(w3))],\n",
        "                     [float(L_x2.diff(x1)), float(L_x2.diff(x2)), float(L_x2.diff(x3)), float(L_x2.diff(w2)), float(L_x2.diff(w3))],\n",
        "                     [float(L_x3.diff(x1)), float(L_x3.diff(x2)), float(L_x3.diff(x3)), float(L_x3.diff(w2)), float(L_x3.diff(w3))],\n",
        "                     [1.0, 1.0, 1.0, 0.0, 0.0], \n",
        "                     [float(z2.diff(x1)), float(z2.diff(x2)), float(z2.diff(x3)), float(z2.diff(w2)), float(z2.diff(w3))]])\n",
        "#Случай 7: w1 = 0, w3 = 0, w5 = 0\n",
        "Ur_Matrix_7 = np.array([[float(L_x1.diff(x1)), float(L_x1.diff(x2)), float(L_x1.diff(x3)), float(L_x1.diff(w2)), float(L_x1.diff(w4))],\n",
        "                     [float(L_x2.diff(x1)), float(L_x2.diff(x2)), float(L_x2.diff(x3)), float(L_x2.diff(w2)), float(L_x2.diff(w4))],\n",
        "                     [float(L_x3.diff(x1)), float(L_x3.diff(x2)), float(L_x3.diff(x3)), float(L_x3.diff(w2)), float(L_x3.diff(w4))],\n",
        "                     [1.0, 1.0, 1.0, 0.0, 0.0], \n",
        "                     [float(z2.diff(x1)), float(z2.diff(x2)), float(z2.diff(x3)), float(z2.diff(w2)), float(z2.diff(w4))]])\n",
        "#Случай 8: w1 = 0, w3 = 0, w4 = 0\n",
        "Ur_Matrix_8 = np.array([[float(L_x1.diff(x1)), float(L_x1.diff(x2)), float(L_x1.diff(x3)), float(L_x1.diff(w2)), float(L_x1.diff(w5))],\n",
        "                     [float(L_x2.diff(x1)), float(L_x2.diff(x2)), float(L_x2.diff(x3)), float(L_x2.diff(w2)), float(L_x2.diff(w5))],\n",
        "                     [float(L_x3.diff(x1)), float(L_x3.diff(x2)), float(L_x3.diff(x3)), float(L_x3.diff(w2)), float(L_x3.diff(w5))],\n",
        "                     [1.0, 1.0, 1.0, 0.0, 0.0], \n",
        "                     [float(z2.diff(x1)), float(z2.diff(x2)), float(z2.diff(x3)), float(z2.diff(w2)), float(z2.diff(w5))]])\n",
        "#Случай 9: w1 = 0, w2 = 0, w5 = 0\n",
        "Ur_Matrix_9 = np.array([[float(L_x1.diff(x1)), float(L_x1.diff(x2)), float(L_x1.diff(x3)), float(L_x1.diff(w3)), float(L_x1.diff(w4))],\n",
        "                     [float(L_x2.diff(x1)), float(L_x2.diff(x2)), float(L_x2.diff(x3)), float(L_x2.diff(w3)), float(L_x2.diff(w4))],\n",
        "                     [float(L_x3.diff(x1)), float(L_x3.diff(x2)), float(L_x3.diff(x3)), float(L_x3.diff(w3)), float(L_x3.diff(w4))],\n",
        "                     [1.0, 1.0, 1.0, 0.0, 0.0], \n",
        "                     [float(z2.diff(x1)), float(z2.diff(x2)), float(z2.diff(x3)), float(z2.diff(w3)), float(z2.diff(w4))]])\n",
        "#Случай 10: w1 = 0, w2 = 0, w4 = 0\n",
        "Ur_Matrix_10 = np.array([[float(L_x1.diff(x1)), float(L_x1.diff(x2)), float(L_x1.diff(x3)), float(L_x1.diff(w3)), float(L_x1.diff(w5))],\n",
        "                     [float(L_x2.diff(x1)), float(L_x2.diff(x2)), float(L_x2.diff(x3)), float(L_x2.diff(w3)), float(L_x2.diff(w5))],\n",
        "                     [float(L_x3.diff(x1)), float(L_x3.diff(x2)), float(L_x3.diff(x3)), float(L_x3.diff(w3)), float(L_x3.diff(w5))],\n",
        "                     [1.0, 1.0, 1.0, 0.0, 0.0], \n",
        "                     [float(z2.diff(x1)), float(z2.diff(x2)), float(z2.diff(x3)), float(z2.diff(w3)), float(z2.diff(w5))]])\n",
        "\n",
        "answer1 = np.linalg.solve(Ur_Matrix_1, Ur_Vector)\n",
        "answer2 = np.linalg.solve(Ur_Matrix_2, Ur_Vector)\n",
        "answer3 = np.linalg.solve(Ur_Matrix_3, Ur_Vector)\n",
        "answer4 = np.linalg.solve(Ur_Matrix_4, Ur_Vector)\n",
        "answer5 = np.linalg.solve(Ur_Matrix_5, Ur_Vector)\n",
        "answer6 = np.linalg.solve(Ur_Matrix_6, Ur_Vector)\n",
        "answer7 = np.linalg.solve(Ur_Matrix_7, Ur_Vector)\n",
        "answer8 = np.linalg.solve(Ur_Matrix_8, Ur_Vector)\n",
        "answer9 = np.linalg.solve(Ur_Matrix_9, Ur_Vector)\n",
        "answer10 = np.linalg.solve(Ur_Matrix_10, Ur_Vector)\n",
        "\n",
        "print(answer1, answer2, answer3, answer4, answer5, answer6, answer7, answer8, answer9, answer10, sep='\\n')\n",
        "\n"
      ],
      "metadata": {
        "colab": {
          "base_uri": "https://localhost:8080/"
        },
        "id": "d1xFidPCkTF5",
        "outputId": "95b408a1-7770-4a76-db5d-9517722702f2"
      },
      "execution_count": 32,
      "outputs": [
        {
          "output_type": "stream",
          "name": "stdout",
          "text": [
            "[ 0.39125996  0.5681083   0.04063174 -0.00082463 -0.32176497]\n",
            "[ 0.65914981  0.7499465  -0.40909631 -0.0022017  -0.00221528]\n",
            "[0.07814647 0.3555732  0.56628033 0.0034326  0.00397715]\n",
            "[ 0.19278582  0.43338807  0.37382611 -0.00318972 -0.0027553 ]\n",
            "[ 0.45130176  0.60886346 -0.06016522 -0.00141406  0.00122798]\n",
            "[ 0.46046079  0.61508042 -0.07554121 -0.43395289  0.00096068]\n",
            "[ 0.30726103  0.51109153  0.18164745 -0.77191655 -0.00171795]\n",
            "[ 0.23084057  0.45921887  0.30994056 -0.51444617  0.00132656]\n",
            "[ 0.6571727   0.74860448 -0.40577718  0.0021942   0.00220588]\n",
            "[ 1.69838226  1.45535643 -2.15373868  0.00613984 -0.00715173]\n"
          ]
        }
      ]
    },
    {
      "cell_type": "code",
      "source": [
        "print(answer1[0] + answer1[1] + answer1[2])\n",
        "print(answer2[0] + answer2[1] + answer2[2])\n",
        "print(answer3[0] + answer3[1] + answer3[2])\n",
        "print(answer4[0] + answer4[1] + answer4[2])\n",
        "print(answer5[0] + answer5[1] + answer5[2])\n",
        "print(answer6[0] + answer6[1] + answer6[2])\n",
        "print(answer7[0] + answer7[1] + answer7[2])\n",
        "print(answer8[0] + answer8[1] + answer8[2])\n",
        "print(answer9[0] + answer9[1] + answer9[2])\n",
        "print(answer10[0] + answer10[1] + answer10[2])"
      ],
      "metadata": {
        "colab": {
          "base_uri": "https://localhost:8080/"
        },
        "id": "yi1M8E09Kdfg",
        "outputId": "8b4fe313-fb05-4403-9ce9-168d9777f754"
      },
      "execution_count": 43,
      "outputs": [
        {
          "output_type": "stream",
          "name": "stdout",
          "text": [
            "1.0\n",
            "1.0\n",
            "1.0\n",
            "1.0\n",
            "1.0\n",
            "1.0\n",
            "1.0\n",
            "1.0\n",
            "1.0\n",
            "1.0\n"
          ]
        }
      ]
    },
    {
      "cell_type": "code",
      "source": [
        "#Случай 11:\n",
        "Ur_Matrix_11 = np.array([[float(L_x1.diff(w1)), float(L_x1.diff(w3)), float(L_x1.diff(w4)), float(L_x1.diff(w5)), float(L_x1.diff(x1))],\n",
        "                     [float(L_x2.diff(w1)), float(L_x2.diff(w3)), float(L_x2.diff(w4)), float(L_x2.diff(w5)), float(L_x2.diff(x1))],\n",
        "                     [float(L_x3.diff(w1)), float(L_x3.diff(w3)), float(L_x3.diff(w4)), float(L_x3.diff(w5)), float(L_x3.diff(x1))],\n",
        "                     [0.0, 0.0, 0.0, 0.0, 1.0], \n",
        "                     [float(z2.diff(w1)), float(z2.diff(w3)), float(z2.diff(w4)), float(z2.diff(w5)), float(z2.diff(x1))]])\n",
        "\n",
        "answer11 = np.linalg.solve(Ur_Matrix_11, Ur_Vector)\n",
        "\n",
        "print(answer11, sep='\\n')"
      ],
      "metadata": {
        "id": "cMj1F4_nZI9o",
        "colab": {
          "base_uri": "https://localhost:8080/",
          "height": 415
        },
        "outputId": "6d0bb036-2a37-4dff-f52a-3ed91a975ea1"
      },
      "execution_count": 27,
      "outputs": [
        {
          "output_type": "error",
          "ename": "LinAlgError",
          "evalue": "ignored",
          "traceback": [
            "\u001b[0;31m---------------------------------------------------------------------------\u001b[0m",
            "\u001b[0;31mLinAlgError\u001b[0m                               Traceback (most recent call last)",
            "\u001b[0;32m<ipython-input-27-fea1cd634ebb>\u001b[0m in \u001b[0;36m<module>\u001b[0;34m\u001b[0m\n\u001b[1;32m      6\u001b[0m                      [float(z2.diff(w1)), float(z2.diff(w3)), float(z2.diff(w4)), float(z2.diff(w5)), float(z2.diff(x1))]])\n\u001b[1;32m      7\u001b[0m \u001b[0;34m\u001b[0m\u001b[0m\n\u001b[0;32m----> 8\u001b[0;31m \u001b[0manswer11\u001b[0m \u001b[0;34m=\u001b[0m \u001b[0mnp\u001b[0m\u001b[0;34m.\u001b[0m\u001b[0mlinalg\u001b[0m\u001b[0;34m.\u001b[0m\u001b[0msolve\u001b[0m\u001b[0;34m(\u001b[0m\u001b[0mUr_Matrix_11\u001b[0m\u001b[0;34m,\u001b[0m \u001b[0mUr_Vector\u001b[0m\u001b[0;34m)\u001b[0m\u001b[0;34m\u001b[0m\u001b[0;34m\u001b[0m\u001b[0m\n\u001b[0m\u001b[1;32m      9\u001b[0m \u001b[0;34m\u001b[0m\u001b[0m\n\u001b[1;32m     10\u001b[0m \u001b[0mprint\u001b[0m\u001b[0;34m(\u001b[0m\u001b[0manswer11\u001b[0m\u001b[0;34m,\u001b[0m \u001b[0msep\u001b[0m\u001b[0;34m=\u001b[0m\u001b[0;34m'\\n'\u001b[0m\u001b[0;34m)\u001b[0m\u001b[0;34m\u001b[0m\u001b[0;34m\u001b[0m\u001b[0m\n",
            "\u001b[0;32m<__array_function__ internals>\u001b[0m in \u001b[0;36msolve\u001b[0;34m(*args, **kwargs)\u001b[0m\n",
            "\u001b[0;32m/usr/local/lib/python3.7/dist-packages/numpy/linalg/linalg.py\u001b[0m in \u001b[0;36msolve\u001b[0;34m(a, b)\u001b[0m\n\u001b[1;32m    391\u001b[0m     \u001b[0msignature\u001b[0m \u001b[0;34m=\u001b[0m \u001b[0;34m'DD->D'\u001b[0m \u001b[0;32mif\u001b[0m \u001b[0misComplexType\u001b[0m\u001b[0;34m(\u001b[0m\u001b[0mt\u001b[0m\u001b[0;34m)\u001b[0m \u001b[0;32melse\u001b[0m \u001b[0;34m'dd->d'\u001b[0m\u001b[0;34m\u001b[0m\u001b[0;34m\u001b[0m\u001b[0m\n\u001b[1;32m    392\u001b[0m     \u001b[0mextobj\u001b[0m \u001b[0;34m=\u001b[0m \u001b[0mget_linalg_error_extobj\u001b[0m\u001b[0;34m(\u001b[0m\u001b[0m_raise_linalgerror_singular\u001b[0m\u001b[0;34m)\u001b[0m\u001b[0;34m\u001b[0m\u001b[0;34m\u001b[0m\u001b[0m\n\u001b[0;32m--> 393\u001b[0;31m     \u001b[0mr\u001b[0m \u001b[0;34m=\u001b[0m \u001b[0mgufunc\u001b[0m\u001b[0;34m(\u001b[0m\u001b[0ma\u001b[0m\u001b[0;34m,\u001b[0m \u001b[0mb\u001b[0m\u001b[0;34m,\u001b[0m \u001b[0msignature\u001b[0m\u001b[0;34m=\u001b[0m\u001b[0msignature\u001b[0m\u001b[0;34m,\u001b[0m \u001b[0mextobj\u001b[0m\u001b[0;34m=\u001b[0m\u001b[0mextobj\u001b[0m\u001b[0;34m)\u001b[0m\u001b[0;34m\u001b[0m\u001b[0;34m\u001b[0m\u001b[0m\n\u001b[0m\u001b[1;32m    394\u001b[0m \u001b[0;34m\u001b[0m\u001b[0m\n\u001b[1;32m    395\u001b[0m     \u001b[0;32mreturn\u001b[0m \u001b[0mwrap\u001b[0m\u001b[0;34m(\u001b[0m\u001b[0mr\u001b[0m\u001b[0;34m.\u001b[0m\u001b[0mastype\u001b[0m\u001b[0;34m(\u001b[0m\u001b[0mresult_t\u001b[0m\u001b[0;34m,\u001b[0m \u001b[0mcopy\u001b[0m\u001b[0;34m=\u001b[0m\u001b[0;32mFalse\u001b[0m\u001b[0;34m)\u001b[0m\u001b[0;34m)\u001b[0m\u001b[0;34m\u001b[0m\u001b[0;34m\u001b[0m\u001b[0m\n",
            "\u001b[0;32m/usr/local/lib/python3.7/dist-packages/numpy/linalg/linalg.py\u001b[0m in \u001b[0;36m_raise_linalgerror_singular\u001b[0;34m(err, flag)\u001b[0m\n\u001b[1;32m     86\u001b[0m \u001b[0;34m\u001b[0m\u001b[0m\n\u001b[1;32m     87\u001b[0m \u001b[0;32mdef\u001b[0m \u001b[0m_raise_linalgerror_singular\u001b[0m\u001b[0;34m(\u001b[0m\u001b[0merr\u001b[0m\u001b[0;34m,\u001b[0m \u001b[0mflag\u001b[0m\u001b[0;34m)\u001b[0m\u001b[0;34m:\u001b[0m\u001b[0;34m\u001b[0m\u001b[0;34m\u001b[0m\u001b[0m\n\u001b[0;32m---> 88\u001b[0;31m     \u001b[0;32mraise\u001b[0m \u001b[0mLinAlgError\u001b[0m\u001b[0;34m(\u001b[0m\u001b[0;34m\"Singular matrix\"\u001b[0m\u001b[0;34m)\u001b[0m\u001b[0;34m\u001b[0m\u001b[0;34m\u001b[0m\u001b[0m\n\u001b[0m\u001b[1;32m     89\u001b[0m \u001b[0;34m\u001b[0m\u001b[0m\n\u001b[1;32m     90\u001b[0m \u001b[0;32mdef\u001b[0m \u001b[0m_raise_linalgerror_nonposdef\u001b[0m\u001b[0;34m(\u001b[0m\u001b[0merr\u001b[0m\u001b[0;34m,\u001b[0m \u001b[0mflag\u001b[0m\u001b[0;34m)\u001b[0m\u001b[0;34m:\u001b[0m\u001b[0;34m\u001b[0m\u001b[0;34m\u001b[0m\u001b[0m\n",
            "\u001b[0;31mLinAlgError\u001b[0m: Singular matrix"
          ]
        }
      ]
    },
    {
      "cell_type": "code",
      "source": [],
      "metadata": {
        "id": "ZoVXS1mRe-ZR"
      },
      "execution_count": null,
      "outputs": []
    }
  ]
}